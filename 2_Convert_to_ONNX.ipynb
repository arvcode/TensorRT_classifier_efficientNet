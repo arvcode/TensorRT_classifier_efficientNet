{
 "cells": [
  {
   "cell_type": "markdown",
   "metadata": {},
   "source": [
    "## 2_Convert_to_ONNX\n",
    "\n",
    "This notebook will convert the EfficientNet model to ONNX format."
   ]
  },
  {
   "cell_type": "code",
   "execution_count": 1,
   "metadata": {},
   "outputs": [],
   "source": [
    "#Import packages\n",
    "import torch\n",
    "from torchvision import transforms\n",
    "import onnx\n"
   ]
  },
  {
   "cell_type": "code",
   "execution_count": 2,
   "metadata": {},
   "outputs": [
    {
     "name": "stderr",
     "output_type": "stream",
     "text": [
      "Using cache found in /home/arv/.cache/torch/hub/rwightman_gen-efficientnet-pytorch_master\n"
     ]
    }
   ],
   "source": [
    "#Model\n",
    "model=torch.hub.load('rwightman/gen-efficientnet-pytorch', 'efficientnet_b2', pretrained=True, scriptable=True)"
   ]
  },
  {
   "cell_type": "code",
   "execution_count": 3,
   "metadata": {},
   "outputs": [],
   "source": [
    "#Convert Model to ONNX\n",
    "#Convert to ONNX format\n",
    "ONNX_PATH='efficientnetb2_batch1.onnx'\n",
    "\n",
    "BATCH_SIZE=1 #Set batch size to 1\n",
    "dummy_input=torch.randn(BATCH_SIZE,3,224,224)\n",
    "torch.onnx.export(model,dummy_input,ONNX_PATH,input_names=['input'],\n",
    "                 output_names=['output'],export_params=True)"
   ]
  },
  {
   "cell_type": "code",
   "execution_count": 4,
   "metadata": {},
   "outputs": [],
   "source": [
    "#Check ONNX Model.\n",
    "onnx_model=onnx.load(ONNX_PATH)\n",
    "onnx.checker.check_model(onnx_model)"
   ]
  },
  {
   "cell_type": "code",
   "execution_count": null,
   "metadata": {},
   "outputs": [],
   "source": []
  }
 ],
 "metadata": {
  "kernelspec": {
   "display_name": "Python 3",
   "language": "python",
   "name": "python3"
  },
  "language_info": {
   "codemirror_mode": {
    "name": "ipython",
    "version": 3
   },
   "file_extension": ".py",
   "mimetype": "text/x-python",
   "name": "python",
   "nbconvert_exporter": "python",
   "pygments_lexer": "ipython3",
   "version": "3.6.9"
  }
 },
 "nbformat": 4,
 "nbformat_minor": 2
}
