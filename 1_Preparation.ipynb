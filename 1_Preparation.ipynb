{
 "cells": [
  {
   "cell_type": "markdown",
   "metadata": {},
   "source": [
    "## 1_Preparation\n",
    "This notebook does the following tasks,\n",
    "1. Downloads a pretrained EfficientNet Model trained on ImageNet. By default, it downloads EfficientNet B2. Please change according to your requirements.\n",
    "2. Downloads the labels[1000 classes].\n",
    "2. Tests the downloaded model with a test file."
   ]
  },
  {
   "cell_type": "code",
   "execution_count": null,
   "metadata": {},
   "outputs": [],
   "source": [
    "#Import Packages\n",
    "\n",
    "import json\n",
    "from PIL import Image\n",
    "\n",
    "import torch\n",
    "from torchvision import transforms\n",
    "#from efficientnet_pytorch import EfficientNet "
   ]
  },
  {
   "cell_type": "markdown",
   "metadata": {},
   "source": [
    "By default, This notebook will download from torch hub, which is from the below repository.\n",
    "\n",
    "https://github.com/rwightman/gen-efficientnet-pytorch\n",
    "\n",
    "There is another option where we can use the pretrained model from EfficientNet package.\n",
    "\n",
    "https://github.com/lukemelas/EfficientNet-PyTorch\n",
    "\n",
    "__pip install efficientnet_pytorch__\n",
    "\n",
    "To use it, please uncomment the lines,\n",
    "\n",
    "__from efficientnet_pytorch import EfficientNet__\n",
    "\n",
    "__model=EfficientNet.from_pretrained('efficientnet-b2')__\n",
    "\n",
    "and comment out\n",
    "\n",
    "__model=torch.hub.load('rwightman/gen-efficientnet-pytorch', 'efficientnet_b2', pretrained=True, scriptable=True)__\n"
   ]
  },
  {
   "cell_type": "code",
   "execution_count": null,
   "metadata": {},
   "outputs": [],
   "source": [
    "#Download EfficientNet-B2 pretrained Model.\n",
    "\n",
    "model=torch.hub.load('rwightman/gen-efficientnet-pytorch', 'efficientnet_b2', pretrained=True, scriptable=True)\n",
    "#model=EfficientNet.from_pretrained('efficientnet-b2')"
   ]
  },
  {
   "cell_type": "code",
   "execution_count": null,
   "metadata": {},
   "outputs": [],
   "source": [
    "#Download Test Image.\n",
    "!wget https://github.com/qubvel/efficientnet/raw/master/misc/panda.jpg"
   ]
  },
  {
   "cell_type": "code",
   "execution_count": null,
   "metadata": {},
   "outputs": [],
   "source": [
    "#Download Labels.[1000 classes]\n",
    "!wget https://raw.githubusercontent.com/lukemelas/EfficientNet-PyTorch/master/examples/simple/labels_map.txt"
   ]
  },
  {
   "cell_type": "code",
   "execution_count": null,
   "metadata": {},
   "outputs": [],
   "source": [
    "#Populate Labels\n",
    "labels_map=json.load(open('labels_map.txt'))\n",
    "labels_map=[labels_map[str(i)] for i in range(1000)]"
   ]
  },
  {
   "cell_type": "code",
   "execution_count": null,
   "metadata": {},
   "outputs": [],
   "source": [
    "#View Test Image.\n",
    "img=Image.open('panda.jpg')"
   ]
  },
  {
   "cell_type": "code",
   "execution_count": null,
   "metadata": {},
   "outputs": [],
   "source": [
    "#PyTorch input transform\n",
    "image_size=224\n",
    "tfms=transforms.Compose([transforms.Resize(image_size),\n",
    "                         transforms.CenterCrop(image_size),\n",
    "                         transforms.ToTensor(),\n",
    "                         transforms.Normalize([0.485, 0.456, 0.406], [0.229, 0.224, 0.225])])"
   ]
  },
  {
   "cell_type": "code",
   "execution_count": null,
   "metadata": {},
   "outputs": [],
   "source": [
    "#Test the model\n",
    "img=tfms(img).unsqueeze(0)\n",
    "\n",
    "model.eval()\n",
    "with torch.no_grad():\n",
    "    logits=model(img)\n",
    "preds=torch.topk(logits,k=5).indices.squeeze(0).tolist()"
   ]
  },
  {
   "cell_type": "code",
   "execution_count": null,
   "metadata": {},
   "outputs": [],
   "source": [
    "#print(preds)\n",
    "#print(logits)"
   ]
  },
  {
   "cell_type": "code",
   "execution_count": null,
   "metadata": {},
   "outputs": [],
   "source": [
    "for idx in preds:\n",
    "    label=labels_map[idx]\n",
    "    prob=torch.softmax(logits,dim=1)[0,idx].item()\n",
    "    print('{:<75} ({:.2f}%)'.format(label, prob*100))"
   ]
  },
  {
   "cell_type": "code",
   "execution_count": null,
   "metadata": {},
   "outputs": [],
   "source": []
  },
  {
   "cell_type": "code",
   "execution_count": null,
   "metadata": {},
   "outputs": [],
   "source": []
  }
 ],
 "metadata": {
  "kernelspec": {
   "display_name": "Python 3",
   "language": "python",
   "name": "python3"
  },
  "language_info": {
   "codemirror_mode": {
    "name": "ipython",
    "version": 3
   },
   "file_extension": ".py",
   "mimetype": "text/x-python",
   "name": "python",
   "nbconvert_exporter": "python",
   "pygments_lexer": "ipython3",
   "version": "3.6.9"
  }
 },
 "nbformat": 4,
 "nbformat_minor": 2
}
