{
 "cells": [
  {
   "cell_type": "code",
   "execution_count": 2,
   "metadata": {},
   "outputs": [],
   "source": [
    "#Import Packages\n",
    "import cv2 as cv\n",
    "import numpy as np\n",
    "from onnx_helper import ONNXClassifierWrapper,convert_onnx_to_engine\n",
    "import torch\n",
    "import json\n",
    "from PIL import Image\n",
    "from torchvision import transforms"
   ]
  },
  {
   "cell_type": "code",
   "execution_count": 3,
   "metadata": {},
   "outputs": [],
   "source": [
    "#Set constants\n",
    "BATCH_SIZE=1\n",
    "N_CLASSES=1000\n",
    "PRECISION=np.float32\n",
    "image_size=224\n",
    "TRT_PATH='efficientnetb2_batch1.trt'"
   ]
  },
  {
   "cell_type": "code",
   "execution_count": 4,
   "metadata": {},
   "outputs": [
    {
     "name": "stdout",
     "output_type": "stream",
     "text": [
      "Loading TRT Engine\n"
     ]
    }
   ],
   "source": [
    "print(\"Loading TRT Engine\")\n",
    "\n",
    "trt_model=ONNXClassifierWrapper(TRT_PATH,[BATCH_SIZE,N_CLASSES],target_dtype=PRECISION)"
   ]
  },
  {
   "cell_type": "code",
   "execution_count": 5,
   "metadata": {},
   "outputs": [],
   "source": [
    "labels_map=json.load(open('labels_map.txt'))\n",
    "labels_map=[labels_map[str(i)] for i in range(1000)]"
   ]
  },
  {
   "cell_type": "code",
   "execution_count": 6,
   "metadata": {},
   "outputs": [],
   "source": [
    "def infer_objects(image):\n",
    "    img=cv.cvtColor(image,cv.COLOR_BGR2RGB)\n",
    "    img=Image.fromarray(img)\n",
    "    #img=Image.open(image)\n",
    "    image_size=224\n",
    "    tfms=transforms.Compose([transforms.Resize(image_size),\n",
    "                         transforms.CenterCrop(image_size),\n",
    "                         transforms.ToTensor(),\n",
    "                         transforms.Normalize([0.485, 0.456, 0.406], [0.229, 0.224, 0.225])])\n",
    "    #Pytorch tensor transform.\n",
    "    img=tfms(img)\n",
    "    img=img.unsqueeze(0)\n",
    "    \n",
    "    #Convert to numpy.\n",
    "    trt_input=img.numpy()\n",
    "\n",
    "    #Convert input to shape required by TensorRT [batch,W,H,Channels] ->[1,224,224,3]\n",
    "    trt_input=trt_input.transpose((0,3,2, 1))\n",
    "    \n",
    "    #Infer\n",
    "    predictions=trt_model.predict(trt_input)\n",
    "    \n",
    "    #Convert numpy to Torch tensor to get the topK predictions.\n",
    "    predt=torch.from_numpy(predictions)\n",
    "    preds=torch.topk(predt,k=1).indices.squeeze(0).tolist()\n",
    "\n",
    "    for idx in preds:\n",
    "        label=labels_map[idx]\n",
    "        prob=torch.softmax(predt,dim=1)[0,idx].item()\n",
    "    return prob,label\n",
    "    "
   ]
  },
  {
   "cell_type": "code",
   "execution_count": 1,
   "metadata": {},
   "outputs": [],
   "source": [
    "#prob,label=infer_objects('images/dog_3.jpg')\n",
    "#print('{:<75} ({:.2f}%)'.format(label, prob*100))"
   ]
  },
  {
   "cell_type": "code",
   "execution_count": 12,
   "metadata": {},
   "outputs": [],
   "source": [
    "\n",
    "\n",
    "capture=cv.VideoCapture(1)\n",
    "while (True):\n",
    "    ret, img=capture.read()\n",
    "    prob,label=infer_objects(img)\n",
    "    #print('{:<75} ({:.2f}%)'.format(label, prob*100))\n",
    "    cv.putText(img, label, (int(50), int(30)), cv.FONT_HERSHEY_SIMPLEX, 1, (255, 0, 255), 2)\n",
    "    cv.imshow('Image',img)\n",
    "    if cv.waitKey(1) == 13: #13 is the Enter Key\n",
    "        break\n",
    "        \n",
    "capture.release()\n",
    "cv.destroyAllWindows()"
   ]
  },
  {
   "cell_type": "code",
   "execution_count": null,
   "metadata": {},
   "outputs": [],
   "source": []
  },
  {
   "cell_type": "code",
   "execution_count": null,
   "metadata": {},
   "outputs": [],
   "source": []
  }
 ],
 "metadata": {
  "kernelspec": {
   "display_name": "Python 3",
   "language": "python",
   "name": "python3"
  },
  "language_info": {
   "codemirror_mode": {
    "name": "ipython",
    "version": 3
   },
   "file_extension": ".py",
   "mimetype": "text/x-python",
   "name": "python",
   "nbconvert_exporter": "python",
   "pygments_lexer": "ipython3",
   "version": "3.6.9"
  }
 },
 "nbformat": 4,
 "nbformat_minor": 2
}
